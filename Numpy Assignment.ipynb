{
 "cells": [
  {
   "cell_type": "markdown",
   "id": "e7ab59f8",
   "metadata": {},
   "source": [
    "Write a function so that the columns of the output matrix are powers of the input\n",
    "vector.\n",
    "The order of the powers is determined by the increasing boolean argument. Specifically, when\n",
    "increasing is False, the i-th output column is the input vector raised element-wise to the power\n",
    "of N - i - 1.\n",
    "HINT: Such a matrix with a geometric progression in each row is named for Alexandre-\n",
    "Theophile Vandermonde."
   ]
  },
  {
   "cell_type": "code",
   "execution_count": 1,
   "id": "ea4d6652",
   "metadata": {},
   "outputs": [],
   "source": [
    "import numpy as np"
   ]
  },
  {
   "cell_type": "code",
   "execution_count": 2,
   "id": "0597b94a",
   "metadata": {},
   "outputs": [
    {
     "data": {
      "text/plain": [
       "array([[  32,   16,    8,    4,    2,    1],\n",
       "       [ 243,   81,   27,    9,    3,    1],\n",
       "       [1024,  256,   64,   16,    4,    1],\n",
       "       [   1,    1,    1,    1,    1,    1]])"
      ]
     },
     "execution_count": 2,
     "metadata": {},
     "output_type": "execute_result"
    }
   ],
   "source": [
    "import numpy as np\n",
    "num = np.array([2,3,4,1])\n",
    "n = 6\n",
    "\n",
    "np.vander(num,n)"
   ]
  },
  {
   "cell_type": "code",
   "execution_count": 3,
   "id": "9621d7e9",
   "metadata": {},
   "outputs": [
    {
     "data": {
      "text/plain": [
       "array([[   1,    2,    4,    8,   16,   32],\n",
       "       [   1,    3,    9,   27,   81,  243],\n",
       "       [   1,    4,   16,   64,  256, 1024],\n",
       "       [   1,    1,    1,    1,    1,    1]])"
      ]
     },
     "execution_count": 3,
     "metadata": {},
     "output_type": "execute_result"
    }
   ],
   "source": [
    "np.vander(num,n, increasing=True)"
   ]
  },
  {
   "cell_type": "code",
   "execution_count": 4,
   "id": "0e4578bf",
   "metadata": {},
   "outputs": [
    {
     "data": {
      "text/plain": [
       "array([[  32,   16,    8,    4,    2,    1],\n",
       "       [ 243,   81,   27,    9,    3,    1],\n",
       "       [1024,  256,   64,   16,    4,    1],\n",
       "       [   1,    1,    1,    1,    1,    1]])"
      ]
     },
     "execution_count": 4,
     "metadata": {},
     "output_type": "execute_result"
    }
   ],
   "source": [
    "np.vander(num,n, increasing= False)"
   ]
  },
  {
   "cell_type": "code",
   "execution_count": 5,
   "id": "c04a80a2",
   "metadata": {},
   "outputs": [
    {
     "data": {
      "text/plain": [
       "array([[ 8,  4,  2,  1],\n",
       "       [27,  9,  3,  1],\n",
       "       [64, 16,  4,  1],\n",
       "       [ 1,  1,  1,  1]])"
      ]
     },
     "execution_count": 5,
     "metadata": {},
     "output_type": "execute_result"
    }
   ],
   "source": [
    "np.vander(num)"
   ]
  },
  {
   "cell_type": "markdown",
   "id": "2a46f5d7",
   "metadata": {},
   "source": [
    "Problem Statement 2:\n",
    "Given a sequence of n values x1, x2, ..., xn and a window size k>0, the k-th moving average of\n",
    "the given sequence is defined as follows:\n",
    "The moving average sequence has n-k+1 elements as shown below.\n",
    "The moving averages with k=4 of a ten-value sequence (n=10) is shown below\n",
    "i 1 2 3 4 5 6 7 8 9 10\n",
    "===== == == == == == == == == == ==\n",
    "Input 10 20 30 40 50 60 70 80 90 100\n",
    "y1 25 = (10+20+30+40)/4\n",
    "y2 35 = (20+30+40+50)/4\n",
    "y3 45 = (30+40+50+60)/4\n",
    "y4 55 = (40+50+60+70)/4\n",
    "y5 65 = (50+60+70+80)/4\n",
    "y6 75 = (60+70+80+90)/4\n",
    "y7 85 = (70+80+90+100)/4\n",
    "Thus, the moving average sequence has n-k+1=10-4+1=7 values.\n",
    "Question: Write a function to find moving average in an array over a window:\n",
    "Test it over [3, 5, 7, 2, 8, 10, 11, 65, 72, 81, 99, 100, 150] and window of 3."
   ]
  },
  {
   "cell_type": "code",
   "execution_count": 6,
   "id": "81cfcc57",
   "metadata": {},
   "outputs": [],
   "source": [
    "def moving_average(num_list,k):\n",
    "    cumsum, moving_avg_1 =[0], []\n",
    "    \n",
    "    for i, x in enumerate(num_list,1):\n",
    "        cumsum.append(cumsum[i-1]+x) # appending the list by adding values one by one\n",
    "        \n",
    "        if i>=k:\n",
    "            moving_avg= round(((cumsum[i]-cumsum[i-k])/k),2) # calculating moving average \n",
    "            \n",
    "            moving_avg_1.append(moving_avg) # appending the moving average \n",
    "    print(\"Moving Values Average are: \", moving_avg_1)\n",
    "    print(\"Length of list n-k+1: \", len(moving_avg_1))"
   ]
  },
  {
   "cell_type": "code",
   "execution_count": 7,
   "id": "241dd291",
   "metadata": {},
   "outputs": [
    {
     "name": "stdout",
     "output_type": "stream",
     "text": [
      "Moving Values Average are:  [5.0, 4.67, 5.67, 6.67, 9.67, 28.67, 49.33, 72.67, 84.0, 93.33, 116.33]\n",
      "Length of list n-k+1:  11\n"
     ]
    }
   ],
   "source": [
    "# Testing dataset\n",
    "num_list= [3, 5, 7, 2, 8, 10, 11, 65, 72, 81, 99, 100, 150]\n",
    "k = 3\n",
    "\n",
    "moving_average(num_list,k)"
   ]
  },
  {
   "cell_type": "code",
   "execution_count": null,
   "id": "be6e8103",
   "metadata": {},
   "outputs": [],
   "source": []
  }
 ],
 "metadata": {
  "kernelspec": {
   "display_name": "Python 3",
   "language": "python",
   "name": "python3"
  },
  "language_info": {
   "codemirror_mode": {
    "name": "ipython",
    "version": 3
   },
   "file_extension": ".py",
   "mimetype": "text/x-python",
   "name": "python",
   "nbconvert_exporter": "python",
   "pygments_lexer": "ipython3",
   "version": "3.8.8"
  }
 },
 "nbformat": 4,
 "nbformat_minor": 5
}
